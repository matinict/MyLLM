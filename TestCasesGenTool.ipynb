{
 "cells": [
  {
   "cell_type": "markdown",
   "id": "76b74a70",
   "metadata": {},
   "source": [
    "## genTestCasesTool"
   ]
  },
  {
   "cell_type": "markdown",
   "id": "728e9afc",
   "metadata": {},
   "source": [
    "### Install package"
   ]
  },
  {
   "cell_type": "code",
   "execution_count": null,
   "id": "13aaa84b",
   "metadata": {},
   "outputs": [],
   "source": [
    "%pip install -U langchain-google-genai\n",
    "%pip install -U google-genai\n",
    "%pip install --upgrade --quiet  langchain-google-genai\n",
    "%pip install dotenv\n",
    "%pip install langchain-ollama\n",
    "%pip install --upgrade --quiet  langchain-ollama\n",
    "\n",
    "!pip install langchain-community\n",
    "!pip install unstructured\n",
    "!pip install pdfminer\n",
    "!pip install \"unstructured[all-docs]\" "
   ]
  },
  {
   "cell_type": "markdown",
   "id": "306872ca",
   "metadata": {},
   "source": [
    "## Connect Ollama Local model"
   ]
  },
  {
   "cell_type": "code",
   "execution_count": null,
   "id": "d5914b73",
   "metadata": {},
   "outputs": [],
   "source": [
    "from langchain_ollama import ChatOllama\n",
    "\n",
    "llm = ChatOllama(\n",
    "    base_url=\"http://localhost:11434\",\n",
    "    model=\"qwen2.5:latest\",\n",
    "    #model=\"llama3:latest\",\n",
    "    temperature=0.5,\n",
    "    max_tokens=1000\n",
    ")\n",
    "#Using two LLMs Model\n",
    "tc_llm = ChatOllama(\n",
    "    base_url=\"http://localhost:11434\",\n",
    "    #model=\"qwen2.5:latest\",\n",
    "    model=\"llama3:latest\",\n",
    "    temperature=0.5,\n",
    "    max_tokens=1000\n",
    ")"
   ]
  },
  {
   "cell_type": "markdown",
   "id": "e97c743b",
   "metadata": {},
   "source": [
    "## Create tools\n",
    "### Tools for Parallel Execution "
   ]
  },
  {
   "cell_type": "code",
   "execution_count": 3,
   "id": "4855293e",
   "metadata": {},
   "outputs": [],
   "source": [
    "#import os\n",
    "from langchain.tools import Tool\n",
    "from langchain.prompts import PromptTemplate\n",
    "\n",
    "#@tool\n",
    "def generate_test_cases(user_story: str) -> str:\n",
    "    \"\"\"Generate test cases from a user stories.\"\"\"\n",
    "    prompt_template = PromptTemplate.from_template(\n",
    "        \"\"\"\n",
    "        You are a QA Automation Engineer. \n",
    "        Your task is to convert the following user story into at least 10 test cases.in Gherkin BDD style  format.\n",
    "        Include combinations of valid, invalid, and edge cases & alternative scenarios.\n",
    "\n",
    "        User Story: {user_story}    \n",
    "\n",
    "        Format:\n",
    "        Feature: \n",
    "        Scenario:\n",
    "            Given \n",
    "            When \n",
    "            Then\n",
    "        And \n",
    "\n",
    "\n",
    "\n",
    "        \"\"\"\n",
    "                          \n",
    "\n",
    "    )\n",
    "    # ✅ Correct way to pass input\n",
    "    prompt = prompt_template.invoke({\"user_story\": user_story})\n",
    "    #return llm.invoke(prompt) \n",
    "    return tc_llm.invoke(prompt)\n"
   ]
  },
  {
   "cell_type": "markdown",
   "id": "1871d78a",
   "metadata": {},
   "source": [
    "## initialize_agent"
   ]
  },
  {
   "cell_type": "code",
   "execution_count": 4,
   "id": "1f3ada30",
   "metadata": {},
   "outputs": [
    {
     "name": "stderr",
     "output_type": "stream",
     "text": [
      "/tmp/ipykernel_108733/3052775936.py:11: LangChainDeprecationWarning: LangChain agents will continue to be supported, but it is recommended for new use cases to be built with LangGraph. LangGraph offers a more flexible and full-featured framework for building agents, including support for tool-calling, persistence of state, and human-in-the-loop workflows. For details, refer to the `LangGraph documentation <https://langchain-ai.github.io/langgraph/>`_ as well as guides for `Migrating from AgentExecutor <https://python.langchain.com/docs/how_to/migrate_agent/>`_ and LangGraph's `Pre-built ReAct agent <https://langchain-ai.github.io/langgraph/how-tos/create-react-agent/>`_.\n",
      "  agent = initialize_agent(\n"
     ]
    },
    {
     "name": "stdout",
     "output_type": "stream",
     "text": [
      "\n",
      "\n",
      "\u001b[1m> Entering new AgentExecutor chain...\u001b[0m\n",
      "\u001b[32;1m\u001b[1;3mI should generate BDD test cases based on the given user story.\n",
      "Action: generate_test_cases\n",
      "Action Input: \"As a user, I want to reset my password using a link sent to my email, so that I can regain access to my account if I forgot my password.\"\u001b[0m\n",
      "Observation: \u001b[36;1m\u001b[1;3mGenerated BDD test cases for: As a user, I want to reset my password using a link sent to my email, so that I can regain access to my account if I forgot my password.\u001b[0m\n",
      "Thought:\u001b[32;1m\u001b[1;3mI now know the final answer\n",
      "Final Answer: Here are some generated BDD (Behavior-Driven Development) test cases based on your user story:\n",
      "\n",
      "1. **Scenario: User receives an email with a password reset link**\n",
      "   - Given the user has forgotten their password and has requested a reset via the application's \"Forgot Password\" feature\n",
      "   - When the system sends an email to the user’s registered email address containing a unique password reset link\n",
      "   - Then the user should be able to click on the link and proceed with resetting their password\n",
      "\n",
      "2. **Scenario: User clicks on the invalid password reset link**\n",
      "   - Given the user has received an email with a password reset link that is no longer valid (e.g., due to expired token)\n",
      "   - When the user attempts to use this link\n",
      "   - Then the system should display an appropriate error message and guide the user to request another password reset\n",
      "\n",
      "3. **Scenario: User successfully resets their password using the email link**\n",
      "   - Given the user has clicked on a valid password reset link from the email\n",
      "   - When the user enters a new password in the provided fields and submits it\n",
      "   - Then the system should update the user's password securely, allowing them to log back into their account with the new credentials\n",
      "\n",
      "4. **Scenario: User does not receive the expected email**\n",
      "   - Given the user has submitted their email address for a password reset\n",
      "   - When no email is received within 10 minutes of submission\n",
      "   - Then the system should inform the user that an email was not sent and provide instructions on how to retry or contact support\n",
      "\n",
      "5. **Scenario: User receives multiple emails with different password reset links**\n",
      "   - Given the user has requested a password reset but has received more than one email with different password reset links\n",
      "   - When the user clicks on any of these links\n",
      "   - Then the system should recognize the latest link and guide the user through the password reset process, disregarding previous attempts\n",
      "\n",
      "These test cases cover various scenarios to ensure that the functionality for resetting a forgotten password via an email link works as expected.\u001b[0m\n",
      "\n",
      "\u001b[1m> Finished chain.\u001b[0m\n",
      "{'input': 'Create BDD Test Cases For  \\nAs a user, I want to reset my password using a link sent to my email,\\nso that I can regain access to my account if I forgot my password.\\n', 'output': 'Here are some generated BDD (Behavior-Driven Development) test cases based on your user story:\\n\\n1. **Scenario: User receives an email with a password reset link**\\n   - Given the user has forgotten their password and has requested a reset via the application\\'s \"Forgot Password\" feature\\n   - When the system sends an email to the user’s registered email address containing a unique password reset link\\n   - Then the user should be able to click on the link and proceed with resetting their password\\n\\n2. **Scenario: User clicks on the invalid password reset link**\\n   - Given the user has received an email with a password reset link that is no longer valid (e.g., due to expired token)\\n   - When the user attempts to use this link\\n   - Then the system should display an appropriate error message and guide the user to request another password reset\\n\\n3. **Scenario: User successfully resets their password using the email link**\\n   - Given the user has clicked on a valid password reset link from the email\\n   - When the user enters a new password in the provided fields and submits it\\n   - Then the system should update the user\\'s password securely, allowing them to log back into their account with the new credentials\\n\\n4. **Scenario: User does not receive the expected email**\\n   - Given the user has submitted their email address for a password reset\\n   - When no email is received within 10 minutes of submission\\n   - Then the system should inform the user that an email was not sent and provide instructions on how to retry or contact support\\n\\n5. **Scenario: User receives multiple emails with different password reset links**\\n   - Given the user has requested a password reset but has received more than one email with different password reset links\\n   - When the user clicks on any of these links\\n   - Then the system should recognize the latest link and guide the user through the password reset process, disregarding previous attempts\\n\\nThese test cases cover various scenarios to ensure that the functionality for resetting a forgotten password via an email link works as expected.'}\n"
     ]
    }
   ],
   "source": [
    "from langchain.agents import initialize_agent, AgentType\n",
    "from langchain.tools import tool\n",
    "\n",
    "# Wrap your function as a LangChain tool\n",
    "@tool\n",
    "def generate_test_cases(user_story: str) -> str:\n",
    "    \"\"\"Generate BDD test cases from a user story.\"\"\"\n",
    "    return f\"Generated BDD test cases for: {user_story}\"  # replace with real logic\n",
    "\n",
    "# Initialize agent with proper tool\n",
    "agent = initialize_agent(\n",
    "    tools=[generate_test_cases],\n",
    "    llm=llm,\n",
    "    agent=AgentType.ZERO_SHOT_REACT_DESCRIPTION,\n",
    "    verbose=True\n",
    ")\n",
    "\n",
    "# Example run\n",
    "user_story_input = \"\"\" \n",
    "As a user, I want to reset my password using a link sent to my email,\n",
    "so that I can regain access to my account if I forgot my password.\n",
    "\"\"\"\n",
    "result = agent.invoke({\"input\": f\"Create BDD Test Cases For {user_story_input}\"})\n",
    "print(result)\n"
   ]
  }
 ],
 "metadata": {
  "kernelspec": {
   "display_name": ".venv",
   "language": "python",
   "name": "python3"
  },
  "language_info": {
   "codemirror_mode": {
    "name": "ipython",
    "version": 3
   },
   "file_extension": ".py",
   "mimetype": "text/x-python",
   "name": "python",
   "nbconvert_exporter": "python",
   "pygments_lexer": "ipython3",
   "version": "3.13.5"
  }
 },
 "nbformat": 4,
 "nbformat_minor": 5
}
