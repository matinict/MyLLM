{
 "cells": [
  {
   "cell_type": "markdown",
   "id": "76b74a70",
   "metadata": {},
   "source": [
    "## genTestCasesTool"
   ]
  },
  {
   "cell_type": "markdown",
   "id": "728e9afc",
   "metadata": {},
   "source": [
    "### Install package"
   ]
  },
  {
   "cell_type": "code",
   "execution_count": null,
   "id": "13aaa84b",
   "metadata": {},
   "outputs": [],
   "source": [
    "# %pip install -U langchain-google-genai\n",
    "# %pip install -U google-genai\n",
    "# %pip install --upgrade --quiet  langchain-google-genai\n",
    "# %pip install dotenv\n",
    "# %pip install langchain-ollama\n",
    "# %pip install --upgrade --quiet  langchain-ollama\n",
    "\n",
    "# !pip install langchain-community\n",
    "# !pip install unstructured\n",
    "# !pip install pdfminer\n",
    "# !pip install \"unstructured[all-docs]\" "
   ]
  },
  {
   "cell_type": "markdown",
   "id": "306872ca",
   "metadata": {},
   "source": [
    "## Connect Ollama Local model"
   ]
  },
  {
   "cell_type": "code",
   "execution_count": 1,
   "id": "d5914b73",
   "metadata": {},
   "outputs": [],
   "source": [
    "from langchain_google_genai import ChatGoogleGenerativeAI \n",
    "#from langchain_ollama import ChatOllama\n",
    "from dotenv import load_dotenv\n",
    "\n",
    "load= load_dotenv('../.env')\n",
    " \n",
    "\n",
    "llm = ChatGoogleGenerativeAI(\n",
    "    model=\"gemini-2.5-flash\",\n",
    "    temperature=0,\n",
    "    max_tokens=None,\n",
    "    timeout=None,\n",
    "    max_retries=2,\n",
    "    # other params...\n",
    ")\n",
    "\n",
    "\n",
    "tc_llm = ChatGoogleGenerativeAI( \n",
    "   model=\"gemini-2.0-flash\"\n",
    ")"
   ]
  },
  {
   "cell_type": "markdown",
   "id": "e97c743b",
   "metadata": {},
   "source": [
    "## Create tools\n",
    "### Tools for Parallel Execution "
   ]
  },
  {
   "cell_type": "code",
   "execution_count": 3,
   "id": "4855293e",
   "metadata": {},
   "outputs": [],
   "source": [
    "#import os\n",
    "from langchain.tools import Tool\n",
    "from langchain.prompts import PromptTemplate\n",
    "\n",
    "#@tool\n",
    "def generate_test_cases(user_story: str) -> str:\n",
    "    \"\"\"Generate test cases from a user stories.\"\"\"\n",
    "    prompt_template = PromptTemplate.from_template(\n",
    "        \"\"\"\n",
    "        You are a QA Automation Engineer. \n",
    "        Your task is to convert the following user story into at least 10 test cases.in Gherkin BDD style  format.\n",
    "        Include combinations of valid, invalid, and edge cases & alternative scenarios.\n",
    "\n",
    "        User Story: {user_story}    \n",
    "\n",
    "        Format:\n",
    "        Feature: \n",
    "        Scenario:\n",
    "            Given \n",
    "            When \n",
    "            Then\n",
    "        And \n",
    "\n",
    "\n",
    "\n",
    "        \"\"\"\n",
    "                          \n",
    "\n",
    "    )\n",
    "    # ✅ Correct way to pass input\n",
    "    prompt = prompt_template.invoke({\"user_story\": user_story})\n",
    "    #return llm.invoke(prompt) \n",
    "    return tc_llm.invoke(prompt)\n"
   ]
  },
  {
   "cell_type": "markdown",
   "id": "1871d78a",
   "metadata": {},
   "source": [
    "## initialize_agent"
   ]
  },
  {
   "cell_type": "code",
   "execution_count": 4,
   "id": "1f3ada30",
   "metadata": {},
   "outputs": [
    {
     "name": "stderr",
     "output_type": "stream",
     "text": [
      "/tmp/ipykernel_114883/3052775936.py:11: LangChainDeprecationWarning: LangChain agents will continue to be supported, but it is recommended for new use cases to be built with LangGraph. LangGraph offers a more flexible and full-featured framework for building agents, including support for tool-calling, persistence of state, and human-in-the-loop workflows. For details, refer to the `LangGraph documentation <https://langchain-ai.github.io/langgraph/>`_ as well as guides for `Migrating from AgentExecutor <https://python.langchain.com/docs/how_to/migrate_agent/>`_ and LangGraph's `Pre-built ReAct agent <https://langchain-ai.github.io/langgraph/how-tos/create-react-agent/>`_.\n",
      "  agent = initialize_agent(\n"
     ]
    },
    {
     "name": "stdout",
     "output_type": "stream",
     "text": [
      "\n",
      "\n",
      "\u001b[1m> Entering new AgentExecutor chain...\u001b[0m\n",
      "\u001b[32;1m\u001b[1;3mAction: generate_test_cases\n",
      "Action Input: As a user, I want to reset my password using a link sent to my email, so that I can regain access to my account if I forgot my password.\u001b[0m\n",
      "Observation: \u001b[36;1m\u001b[1;3mGenerated BDD test cases for: As a user, I want to reset my password using a link sent to my email, so that I can regain access to my account if I forgot my password.\u001b[0m\n",
      "Thought:\u001b[32;1m\u001b[1;3mFinal Answer: Feature: Password Reset via Email Link\n",
      "\n",
      "Scenario: User successfully resets password\n",
      "  Given I am on the login page\n",
      "  And I click on \"Forgot Password?\"\n",
      "  When I enter my registered email address\n",
      "  And I click \"Send Reset Link\"\n",
      "  Then I should receive an email with a password reset link\n",
      "  And I click the password reset link in the email\n",
      "  And I am redirected to the \"Reset Password\" page\n",
      "  And I enter a new valid password\n",
      "  And I confirm the new valid password\n",
      "  And I click \"Reset Password\"\n",
      "  Then I should see a \"Password successfully reset\" message\n",
      "  And I should be able to log in with my new password\n",
      "\n",
      "Scenario: User attempts to reset password with an unregistered email\n",
      "  Given I am on the login page\n",
      "  And I click on \"Forgot Password?\"\n",
      "  When I enter an unregistered email address\n",
      "  And I click \"Send Reset Link\"\n",
      "  Then I should see an error message \"Email address not found\" or similar\n",
      "  And I should not receive a password reset email\n",
      "\n",
      "Scenario: Password reset link expires\n",
      "  Given I am on the login page\n",
      "  And I click on \"Forgot Password?\"\n",
      "  When I enter my registered email address\n",
      "  And I click \"Send Reset Link\"\n",
      "  And I receive an email with a password reset link\n",
      "  And I wait for the password reset link to expire (e.g., 1 hour)\n",
      "  And I click the expired password reset link in the email\n",
      "  Then I should be redirected to an \"Expired Link\" page or see an error message \"Password reset link has expired\"\n",
      "  And I should be prompted to request a new password reset link\n",
      "\n",
      "Scenario: User attempts to reset password with invalid new password\n",
      "  Given I am on the login page\n",
      "  And I click on \"Forgot Password?\"\n",
      "  When I enter my registered email address\n",
      "  And I click \"Send Reset Link\"\n",
      "  And I receive an email with a password reset link\n",
      "  And I click the password reset link in the email\n",
      "  And I am redirected to the \"Reset Password\" page\n",
      "  And I enter an invalid password (e.g., too short, no special characters)\n",
      "  And I confirm the invalid password\n",
      "  And I click \"Reset Password\"\n",
      "  Then I should see an error message indicating password policy violation (e.g., \"Password must be at least 8 characters long\")\n",
      "  And my password should not be reset\n",
      "\n",
      "Scenario: User attempts to reset password with mismatched new passwords\n",
      "  Given I am on the login page\n",
      "  And I click on \"Forgot Password?\"\n",
      "  When I enter my registered email address\n",
      "  And I click \"Send Reset Link\"\n",
      "  And I receive an email with a password reset link\n",
      "  And I click the password reset link in the email\n",
      "  And I am redirected to the \"Reset Password\" page\n",
      "  And I enter a new valid password in the \"New Password\" field\n",
      "  And I enter a different password in the \"Confirm New Password\" field\n",
      "  And I click \"Reset Password\"\n",
      "  Then I should see an error message \"Passwords do not match\"\n",
      "  And my password should not be reset\n",
      "\n",
      "Scenario: User attempts to use an already used password reset link\n",
      "  Given I am on the login page\n",
      "  And I click on \"Forgot Password?\"\n",
      "  When I enter my registered email address\n",
      "  And I click \"Send Reset Link\"\n",
      "  And I receive an email with a password reset link\n",
      "  And I click the password reset link in the email\n",
      "  And I successfully reset my password\n",
      "  And I attempt to click the *same* password reset link again\n",
      "  Then I should be redirected to the login page or see an error message \"Password reset link has already been used\"\n",
      "  And I should not be able to reset my password again with the same link\u001b[0m\n",
      "\n",
      "\u001b[1m> Finished chain.\u001b[0m\n",
      "{'input': 'Create BDD Test Cases For  \\nAs a user, I want to reset my password using a link sent to my email,\\nso that I can regain access to my account if I forgot my password.\\n', 'output': 'Feature: Password Reset via Email Link\\n\\nScenario: User successfully resets password\\n  Given I am on the login page\\n  And I click on \"Forgot Password?\"\\n  When I enter my registered email address\\n  And I click \"Send Reset Link\"\\n  Then I should receive an email with a password reset link\\n  And I click the password reset link in the email\\n  And I am redirected to the \"Reset Password\" page\\n  And I enter a new valid password\\n  And I confirm the new valid password\\n  And I click \"Reset Password\"\\n  Then I should see a \"Password successfully reset\" message\\n  And I should be able to log in with my new password\\n\\nScenario: User attempts to reset password with an unregistered email\\n  Given I am on the login page\\n  And I click on \"Forgot Password?\"\\n  When I enter an unregistered email address\\n  And I click \"Send Reset Link\"\\n  Then I should see an error message \"Email address not found\" or similar\\n  And I should not receive a password reset email\\n\\nScenario: Password reset link expires\\n  Given I am on the login page\\n  And I click on \"Forgot Password?\"\\n  When I enter my registered email address\\n  And I click \"Send Reset Link\"\\n  And I receive an email with a password reset link\\n  And I wait for the password reset link to expire (e.g., 1 hour)\\n  And I click the expired password reset link in the email\\n  Then I should be redirected to an \"Expired Link\" page or see an error message \"Password reset link has expired\"\\n  And I should be prompted to request a new password reset link\\n\\nScenario: User attempts to reset password with invalid new password\\n  Given I am on the login page\\n  And I click on \"Forgot Password?\"\\n  When I enter my registered email address\\n  And I click \"Send Reset Link\"\\n  And I receive an email with a password reset link\\n  And I click the password reset link in the email\\n  And I am redirected to the \"Reset Password\" page\\n  And I enter an invalid password (e.g., too short, no special characters)\\n  And I confirm the invalid password\\n  And I click \"Reset Password\"\\n  Then I should see an error message indicating password policy violation (e.g., \"Password must be at least 8 characters long\")\\n  And my password should not be reset\\n\\nScenario: User attempts to reset password with mismatched new passwords\\n  Given I am on the login page\\n  And I click on \"Forgot Password?\"\\n  When I enter my registered email address\\n  And I click \"Send Reset Link\"\\n  And I receive an email with a password reset link\\n  And I click the password reset link in the email\\n  And I am redirected to the \"Reset Password\" page\\n  And I enter a new valid password in the \"New Password\" field\\n  And I enter a different password in the \"Confirm New Password\" field\\n  And I click \"Reset Password\"\\n  Then I should see an error message \"Passwords do not match\"\\n  And my password should not be reset\\n\\nScenario: User attempts to use an already used password reset link\\n  Given I am on the login page\\n  And I click on \"Forgot Password?\"\\n  When I enter my registered email address\\n  And I click \"Send Reset Link\"\\n  And I receive an email with a password reset link\\n  And I click the password reset link in the email\\n  And I successfully reset my password\\n  And I attempt to click the *same* password reset link again\\n  Then I should be redirected to the login page or see an error message \"Password reset link has already been used\"\\n  And I should not be able to reset my password again with the same link'}\n"
     ]
    }
   ],
   "source": [
    "from langchain.agents import initialize_agent, AgentType\n",
    "from langchain.tools import tool\n",
    "\n",
    "# Wrap your function as a LangChain tool\n",
    "@tool\n",
    "def generate_test_cases(user_story: str) -> str:\n",
    "    \"\"\"Generate BDD test cases from a user story.\"\"\"\n",
    "    return f\"Generated BDD test cases for: {user_story}\"  # replace with real logic\n",
    "\n",
    "# Initialize agent with proper tool\n",
    "agent = initialize_agent(\n",
    "    tools=[generate_test_cases],\n",
    "    llm=llm,\n",
    "    agent=AgentType.ZERO_SHOT_REACT_DESCRIPTION,\n",
    "    verbose=True\n",
    ")\n",
    "\n",
    "# Example run\n",
    "user_story_input = \"\"\" \n",
    "As a user, I want to reset my password using a link sent to my email,\n",
    "so that I can regain access to my account if I forgot my password.\n",
    "\"\"\"\n",
    "result = agent.invoke({\"input\": f\"Create BDD Test Cases For {user_story_input}\"})\n",
    "print(result)\n"
   ]
  }
 ],
 "metadata": {
  "kernelspec": {
   "display_name": ".venv",
   "language": "python",
   "name": "python3"
  },
  "language_info": {
   "codemirror_mode": {
    "name": "ipython",
    "version": 3
   },
   "file_extension": ".py",
   "mimetype": "text/x-python",
   "name": "python",
   "nbconvert_exporter": "python",
   "pygments_lexer": "ipython3",
   "version": "3.13.5"
  }
 },
 "nbformat": 4,
 "nbformat_minor": 5
}
